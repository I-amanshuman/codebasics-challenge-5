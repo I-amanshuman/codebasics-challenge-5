{
 "cells": [
  {
   "cell_type": "code",
   "execution_count": 39,
   "id": "2c33f95f",
   "metadata": {},
   "outputs": [
    {
     "name": "stdout",
     "output_type": "stream",
     "text": [
      "domestic_visitors_2016.csv\n",
      "domestic_visitors_2017.csv\n",
      "domestic_visitors_2018.csv\n",
      "domestic_visitors_2019.csv\n"
     ]
    }
   ],
   "source": [
    "import pandas as pd\n",
    "import os\n",
    "\n",
    "entry1 = os.listdir('domestic_visitors')\n",
    "\n",
    "for index, file in enumerate(sorted(entry1)):\n",
    "    print (file)\n",
    "\n",
    "df1 = pd.DataFrame()\n",
    "for index, file in enumerate(sorted(entry1)):\n",
    "    df = pd.read_csv('domestic_visitors/'+file)\n",
    "    df1 = pd.concat([df1, df], axis = 0)"
   ]
  },
  {
   "cell_type": "code",
   "execution_count": 42,
   "id": "7d3edca4",
   "metadata": {},
   "outputs": [],
   "source": [
    "df1.to_csv('domestic_visitors.csv')"
   ]
  },
  {
   "cell_type": "code",
   "execution_count": 43,
   "id": "b94fff99",
   "metadata": {},
   "outputs": [
    {
     "name": "stdout",
     "output_type": "stream",
     "text": [
      "foreign_visitors_2016.csv\n",
      "foreign_visitors_2017.csv\n",
      "foreign_visitors_2018.csv\n",
      "foreign_visitors_2019.csv\n"
     ]
    }
   ],
   "source": [
    "entry2 = os.listdir('foreign_visitors')\n",
    "\n",
    "for index, file in enumerate(sorted(entry2)):\n",
    "    print (file)\n",
    "\n",
    "df2 = pd.DataFrame()\n",
    "for index, file in enumerate(sorted(entry2)):\n",
    "    df = pd.read_csv('foreign_visitors/'+file)\n",
    "    df2 = pd.concat([df2, df], axis = 0)"
   ]
  },
  {
   "cell_type": "code",
   "execution_count": 45,
   "id": "f23eeb06",
   "metadata": {},
   "outputs": [
    {
     "data": {
      "text/html": [
       "<div>\n",
       "<style scoped>\n",
       "    .dataframe tbody tr th:only-of-type {\n",
       "        vertical-align: middle;\n",
       "    }\n",
       "\n",
       "    .dataframe tbody tr th {\n",
       "        vertical-align: top;\n",
       "    }\n",
       "\n",
       "    .dataframe thead th {\n",
       "        text-align: right;\n",
       "    }\n",
       "</style>\n",
       "<table border=\"1\" class=\"dataframe\">\n",
       "  <thead>\n",
       "    <tr style=\"text-align: right;\">\n",
       "      <th></th>\n",
       "      <th>district</th>\n",
       "      <th>date</th>\n",
       "      <th>month</th>\n",
       "      <th>year</th>\n",
       "      <th>visitors</th>\n",
       "    </tr>\n",
       "  </thead>\n",
       "  <tbody>\n",
       "    <tr>\n",
       "      <th>296</th>\n",
       "      <td>Ranga Reddy</td>\n",
       "      <td>01-09-2019</td>\n",
       "      <td>September</td>\n",
       "      <td>2019</td>\n",
       "      <td></td>\n",
       "    </tr>\n",
       "    <tr>\n",
       "      <th>297</th>\n",
       "      <td>Ranga Reddy</td>\n",
       "      <td>01-10-2019</td>\n",
       "      <td>October</td>\n",
       "      <td>2019</td>\n",
       "      <td></td>\n",
       "    </tr>\n",
       "    <tr>\n",
       "      <th>298</th>\n",
       "      <td>Ranga Reddy</td>\n",
       "      <td>01-11-2019</td>\n",
       "      <td>November</td>\n",
       "      <td>2019</td>\n",
       "      <td></td>\n",
       "    </tr>\n",
       "    <tr>\n",
       "      <th>299</th>\n",
       "      <td>Ranga Reddy</td>\n",
       "      <td>01-12-2019</td>\n",
       "      <td>December</td>\n",
       "      <td>2019</td>\n",
       "      <td></td>\n",
       "    </tr>\n",
       "    <tr>\n",
       "      <th>300</th>\n",
       "      <td>Sangareddy</td>\n",
       "      <td>01-01-2019</td>\n",
       "      <td>January</td>\n",
       "      <td>2019</td>\n",
       "      <td>0</td>\n",
       "    </tr>\n",
       "    <tr>\n",
       "      <th>...</th>\n",
       "      <td>...</td>\n",
       "      <td>...</td>\n",
       "      <td>...</td>\n",
       "      <td>...</td>\n",
       "      <td>...</td>\n",
       "    </tr>\n",
       "    <tr>\n",
       "      <th>391</th>\n",
       "      <td>Yadadri Bhongir</td>\n",
       "      <td>01-08-2019</td>\n",
       "      <td>August</td>\n",
       "      <td>2019</td>\n",
       "      <td>0</td>\n",
       "    </tr>\n",
       "    <tr>\n",
       "      <th>392</th>\n",
       "      <td>Yadadri Bhongir</td>\n",
       "      <td>01-09-2019</td>\n",
       "      <td>September</td>\n",
       "      <td>2019</td>\n",
       "      <td>0</td>\n",
       "    </tr>\n",
       "    <tr>\n",
       "      <th>393</th>\n",
       "      <td>Yadadri Bhongir</td>\n",
       "      <td>01-10-2019</td>\n",
       "      <td>October</td>\n",
       "      <td>2019</td>\n",
       "      <td>0</td>\n",
       "    </tr>\n",
       "    <tr>\n",
       "      <th>394</th>\n",
       "      <td>Yadadri Bhongir</td>\n",
       "      <td>01-11-2019</td>\n",
       "      <td>November</td>\n",
       "      <td>2019</td>\n",
       "      <td>0</td>\n",
       "    </tr>\n",
       "    <tr>\n",
       "      <th>395</th>\n",
       "      <td>Yadadri Bhongir</td>\n",
       "      <td>01-12-2019</td>\n",
       "      <td>December</td>\n",
       "      <td>2019</td>\n",
       "      <td>0</td>\n",
       "    </tr>\n",
       "  </tbody>\n",
       "</table>\n",
       "<p>100 rows × 5 columns</p>\n",
       "</div>"
      ],
      "text/plain": [
       "            district        date      month  year visitors\n",
       "296      Ranga Reddy  01-09-2019  September  2019         \n",
       "297      Ranga Reddy  01-10-2019    October  2019         \n",
       "298      Ranga Reddy  01-11-2019   November  2019         \n",
       "299      Ranga Reddy  01-12-2019   December  2019         \n",
       "300      Sangareddy   01-01-2019    January  2019        0\n",
       "..               ...         ...        ...   ...      ...\n",
       "391  Yadadri Bhongir  01-08-2019     August  2019        0\n",
       "392  Yadadri Bhongir  01-09-2019  September  2019        0\n",
       "393  Yadadri Bhongir  01-10-2019    October  2019        0\n",
       "394  Yadadri Bhongir  01-11-2019   November  2019        0\n",
       "395  Yadadri Bhongir  01-12-2019   December  2019        0\n",
       "\n",
       "[100 rows x 5 columns]"
      ]
     },
     "execution_count": 45,
     "metadata": {},
     "output_type": "execute_result"
    }
   ],
   "source": [
    "df2.tail(100)"
   ]
  },
  {
   "cell_type": "code",
   "execution_count": 49,
   "id": "c4103350",
   "metadata": {},
   "outputs": [],
   "source": [
    "df2.to_csv('foreign_visitors.csv')"
   ]
  },
  {
   "cell_type": "code",
   "execution_count": 50,
   "id": "4cab166c",
   "metadata": {},
   "outputs": [
    {
     "data": {
      "text/plain": [
       "Warangal (Rural)            48\n",
       "Kamareddy                   48\n",
       "Jagtial                     48\n",
       "Ranga Reddy                 48\n",
       "Bhadradri Kothagudem        48\n",
       "Adilabad                    48\n",
       "Wanaparthy                  48\n",
       "Medchal                     48\n",
       "Khammam                     48\n",
       "Mahbubnagar                 48\n",
       "Nizamabad                   48\n",
       "Medak                       48\n",
       "Nirmal                      48\n",
       "Vikarabad                   48\n",
       "Suryapet                    48\n",
       "Warangal (Urban)            48\n",
       "Nagarkurnool                48\n",
       "Mahabubabad                 48\n",
       "Rajanna Sircilla            48\n",
       "Peddapalli                  48\n",
       "Jangaon                     48\n",
       "Yadadri Bhongir             48\n",
       "Nalgonda                    48\n",
       "Komaram Bheem Asifabad      48\n",
       "Mancherial                  48\n",
       "Jayashankar Bhoopalpally    48\n",
       "Sangareddy                  48\n",
       "Hyderabad                   48\n",
       "Siddipet                    48\n",
       "Jogulamba Gadwal            48\n",
       "Karimnagar                  48\n",
       "Mulugu                      12\n",
       "Narayanapet                 12\n",
       "Name: district, dtype: int64"
      ]
     },
     "execution_count": 50,
     "metadata": {},
     "output_type": "execute_result"
    }
   ],
   "source": [
    "df1['district'].value_counts()"
   ]
  },
  {
   "cell_type": "code",
   "execution_count": 51,
   "id": "a04fa2ee",
   "metadata": {},
   "outputs": [
    {
     "data": {
      "text/html": [
       "<div>\n",
       "<style scoped>\n",
       "    .dataframe tbody tr th:only-of-type {\n",
       "        vertical-align: middle;\n",
       "    }\n",
       "\n",
       "    .dataframe tbody tr th {\n",
       "        vertical-align: top;\n",
       "    }\n",
       "\n",
       "    .dataframe thead th {\n",
       "        text-align: right;\n",
       "    }\n",
       "</style>\n",
       "<table border=\"1\" class=\"dataframe\">\n",
       "  <thead>\n",
       "    <tr style=\"text-align: right;\">\n",
       "      <th></th>\n",
       "      <th>district</th>\n",
       "      <th>date</th>\n",
       "      <th>month</th>\n",
       "      <th>year</th>\n",
       "      <th>visitors</th>\n",
       "    </tr>\n",
       "  </thead>\n",
       "  <tbody>\n",
       "    <tr>\n",
       "      <th>0</th>\n",
       "      <td>Adilabad</td>\n",
       "      <td>01-01-2016</td>\n",
       "      <td>January</td>\n",
       "      <td>2016</td>\n",
       "      <td>2</td>\n",
       "    </tr>\n",
       "    <tr>\n",
       "      <th>1</th>\n",
       "      <td>Adilabad</td>\n",
       "      <td>01-02-2016</td>\n",
       "      <td>February</td>\n",
       "      <td>2016</td>\n",
       "      <td>0</td>\n",
       "    </tr>\n",
       "    <tr>\n",
       "      <th>2</th>\n",
       "      <td>Adilabad</td>\n",
       "      <td>01-03-2016</td>\n",
       "      <td>March</td>\n",
       "      <td>2016</td>\n",
       "      <td>2</td>\n",
       "    </tr>\n",
       "    <tr>\n",
       "      <th>3</th>\n",
       "      <td>Adilabad</td>\n",
       "      <td>01-04-2016</td>\n",
       "      <td>April</td>\n",
       "      <td>2016</td>\n",
       "      <td>0</td>\n",
       "    </tr>\n",
       "    <tr>\n",
       "      <th>4</th>\n",
       "      <td>Adilabad</td>\n",
       "      <td>01-05-2016</td>\n",
       "      <td>May</td>\n",
       "      <td>2016</td>\n",
       "      <td>0</td>\n",
       "    </tr>\n",
       "  </tbody>\n",
       "</table>\n",
       "</div>"
      ],
      "text/plain": [
       "   district        date     month  year visitors\n",
       "0  Adilabad  01-01-2016   January  2016        2\n",
       "1  Adilabad  01-02-2016  February  2016        0\n",
       "2  Adilabad  01-03-2016     March  2016        2\n",
       "3  Adilabad  01-04-2016     April  2016        0\n",
       "4  Adilabad  01-05-2016       May  2016        0"
      ]
     },
     "execution_count": 51,
     "metadata": {},
     "output_type": "execute_result"
    }
   ],
   "source": [
    "df2.head()"
   ]
  },
  {
   "cell_type": "code",
   "execution_count": null,
   "id": "f253dacc",
   "metadata": {},
   "outputs": [],
   "source": []
  }
 ],
 "metadata": {
  "kernelspec": {
   "display_name": "Python 3",
   "language": "python",
   "name": "python3"
  },
  "language_info": {
   "codemirror_mode": {
    "name": "ipython",
    "version": 3
   },
   "file_extension": ".py",
   "mimetype": "text/x-python",
   "name": "python",
   "nbconvert_exporter": "python",
   "pygments_lexer": "ipython3",
   "version": "3.8.8"
  }
 },
 "nbformat": 4,
 "nbformat_minor": 5
}
